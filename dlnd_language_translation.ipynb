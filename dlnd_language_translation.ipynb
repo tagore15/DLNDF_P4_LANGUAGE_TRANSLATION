{
 "cells": [
  {
   "cell_type": "markdown",
   "metadata": {
    "collapsed": true,
    "deletable": true,
    "editable": true
   },
   "source": [
    "# Language Translation\n",
    "In this project, you’re going to take a peek into the realm of neural network machine translation.  You’ll be training a sequence to sequence model on a dataset of English and French sentences that can translate new sentences from English to French.\n",
    "## Get the Data\n",
    "Since translating the whole language of English to French will take lots of time to train, we have provided you with a small portion of the English corpus."
   ]
  },
  {
   "cell_type": "code",
   "execution_count": 1,
   "metadata": {
    "collapsed": false,
    "deletable": true,
    "editable": true
   },
   "outputs": [],
   "source": [
    "\"\"\"\n",
    "DON'T MODIFY ANYTHING IN THIS CELL\n",
    "\"\"\"\n",
    "import helper\n",
    "import problem_unittests as tests\n",
    "\n",
    "source_path = 'data/small_vocab_en'\n",
    "target_path = 'data/small_vocab_fr'\n",
    "source_text = helper.load_data(source_path)\n",
    "target_text = helper.load_data(target_path)"
   ]
  },
  {
   "cell_type": "markdown",
   "metadata": {
    "deletable": true,
    "editable": true
   },
   "source": [
    "## Explore the Data\n",
    "Play around with view_sentence_range to view different parts of the data."
   ]
  },
  {
   "cell_type": "code",
   "execution_count": 2,
   "metadata": {
    "collapsed": false,
    "deletable": true,
    "editable": true
   },
   "outputs": [
    {
     "name": "stdout",
     "output_type": "stream",
     "text": [
      "Dataset Stats\n",
      "Roughly the number of unique words: 227\n",
      "Number of sentences: 137861\n",
      "Average number of words in a sentence: 13.225277634719028\n",
      "\n",
      "English sentences 0 to 10:\n",
      "new jersey is sometimes quiet during autumn , and it is snowy in april .\n",
      "the united states is usually chilly during july , and it is usually freezing in november .\n",
      "california is usually quiet during march , and it is usually hot in june .\n",
      "the united states is sometimes mild during june , and it is cold in september .\n",
      "your least liked fruit is the grape , but my least liked is the apple .\n",
      "his favorite fruit is the orange , but my favorite is the grape .\n",
      "paris is relaxing during december , but it is usually chilly in july .\n",
      "new jersey is busy during spring , and it is never hot in march .\n",
      "our least liked fruit is the lemon , but my least liked is the grape .\n",
      "the united states is sometimes busy during january , and it is sometimes warm in november .\n",
      "\n",
      "French sentences 0 to 10:\n",
      "new jersey est parfois calme pendant l' automne , et il est neigeux en avril .\n",
      "les états-unis est généralement froid en juillet , et il gèle habituellement en novembre .\n",
      "california est généralement calme en mars , et il est généralement chaud en juin .\n",
      "les états-unis est parfois légère en juin , et il fait froid en septembre .\n",
      "votre moins aimé fruit est le raisin , mais mon moins aimé est la pomme .\n",
      "son fruit préféré est l'orange , mais mon préféré est le raisin .\n",
      "paris est relaxant en décembre , mais il est généralement froid en juillet .\n",
      "new jersey est occupé au printemps , et il est jamais chaude en mars .\n",
      "notre fruit est moins aimé le citron , mais mon moins aimé est le raisin .\n",
      "les états-unis est parfois occupé en janvier , et il est parfois chaud en novembre .\n"
     ]
    }
   ],
   "source": [
    "view_sentence_range = (0, 10)\n",
    "\n",
    "\"\"\"\n",
    "DON'T MODIFY ANYTHING IN THIS CELL\n",
    "\"\"\"\n",
    "import numpy as np\n",
    "\n",
    "print('Dataset Stats')\n",
    "print('Roughly the number of unique words: {}'.format(len({word: None for word in source_text.split()})))\n",
    "\n",
    "sentences = source_text.split('\\n')\n",
    "word_counts = [len(sentence.split()) for sentence in sentences]\n",
    "print('Number of sentences: {}'.format(len(sentences)))\n",
    "print('Average number of words in a sentence: {}'.format(np.average(word_counts)))\n",
    "\n",
    "print()\n",
    "print('English sentences {} to {}:'.format(*view_sentence_range))\n",
    "print('\\n'.join(source_text.split('\\n')[view_sentence_range[0]:view_sentence_range[1]]))\n",
    "print()\n",
    "print('French sentences {} to {}:'.format(*view_sentence_range))\n",
    "print('\\n'.join(target_text.split('\\n')[view_sentence_range[0]:view_sentence_range[1]]))"
   ]
  },
  {
   "cell_type": "markdown",
   "metadata": {
    "deletable": true,
    "editable": true
   },
   "source": [
    "## Implement Preprocessing Function\n",
    "### Text to Word Ids\n",
    "As you did with other RNNs, you must turn the text into a number so the computer can understand it. In the function `text_to_ids()`, you'll turn `source_text` and `target_text` from words to ids.  However, you need to add the `<EOS>` word id at the end of each sentence from `target_text`.  This will help the neural network predict when the sentence should end.\n",
    "\n",
    "You can get the `<EOS>` word id by doing:\n",
    "```python\n",
    "target_vocab_to_int['<EOS>']\n",
    "```\n",
    "You can get other word ids using `source_vocab_to_int` and `target_vocab_to_int`."
   ]
  },
  {
   "cell_type": "code",
   "execution_count": 3,
   "metadata": {
    "collapsed": false,
    "deletable": true,
    "editable": true
   },
   "outputs": [
    {
     "name": "stdout",
     "output_type": "stream",
     "text": [
      "Tests Passed\n"
     ]
    }
   ],
   "source": [
    "def text_to_ids(source_text, target_text, source_vocab_to_int, target_vocab_to_int):\n",
    "    \"\"\"\n",
    "    Convert source and target text to proper word ids\n",
    "    :param source_text: String that contains all the source text.\n",
    "    :param target_text: String that contains all the target text.\n",
    "    :param source_vocab_to_int: Dictionary to go from the source words to an id\n",
    "    :param target_vocab_to_int: Dictionary to go from the target words to an id\n",
    "    :return: A tuple of lists (source_id_text, target_id_text)\n",
    "    \"\"\"\n",
    "    # TODO: Implement Function\n",
    "    source_id_text = [[source_vocab_to_int[word] for word in line.split()] for line in source_text.split('\\n')]\n",
    "    target_id_text = [[target_vocab_to_int[word] for word in line.split()] + [target_vocab_to_int['<EOS>']] for line in target_text.split('\\n')]\n",
    "    return (source_id_text, target_id_text)\n",
    "\n",
    "\"\"\"\n",
    "DON'T MODIFY ANYTHING IN THIS CELL THAT IS BELOW THIS LINE\n",
    "\"\"\"\n",
    "tests.test_text_to_ids(text_to_ids)"
   ]
  },
  {
   "cell_type": "markdown",
   "metadata": {
    "deletable": true,
    "editable": true
   },
   "source": [
    "### Preprocess all the data and save it\n",
    "Running the code cell below will preprocess all the data and save it to file."
   ]
  },
  {
   "cell_type": "code",
   "execution_count": 4,
   "metadata": {
    "collapsed": false,
    "deletable": true,
    "editable": true
   },
   "outputs": [],
   "source": [
    "\"\"\"\n",
    "DON'T MODIFY ANYTHING IN THIS CELL\n",
    "\"\"\"\n",
    "helper.preprocess_and_save_data(source_path, target_path, text_to_ids)"
   ]
  },
  {
   "cell_type": "markdown",
   "metadata": {
    "deletable": true,
    "editable": true
   },
   "source": [
    "# Check Point\n",
    "This is your first checkpoint. If you ever decide to come back to this notebook or have to restart the notebook, you can start from here. The preprocessed data has been saved to disk."
   ]
  },
  {
   "cell_type": "code",
   "execution_count": 5,
   "metadata": {
    "collapsed": false,
    "deletable": true,
    "editable": true
   },
   "outputs": [],
   "source": [
    "\"\"\"\n",
    "DON'T MODIFY ANYTHING IN THIS CELL\n",
    "\"\"\"\n",
    "import numpy as np\n",
    "import helper\n",
    "\n",
    "(source_int_text, target_int_text), (source_vocab_to_int, target_vocab_to_int), _ = helper.load_preprocess()"
   ]
  },
  {
   "cell_type": "markdown",
   "metadata": {
    "deletable": true,
    "editable": true
   },
   "source": [
    "### Check the Version of TensorFlow and Access to GPU\n",
    "This will check to make sure you have the correct version of TensorFlow and access to a GPU"
   ]
  },
  {
   "cell_type": "code",
   "execution_count": 6,
   "metadata": {
    "collapsed": false,
    "deletable": true,
    "editable": true
   },
   "outputs": [
    {
     "name": "stdout",
     "output_type": "stream",
     "text": [
      "TensorFlow Version: 1.0.1\n",
      "Default GPU Device: /gpu:0\n"
     ]
    }
   ],
   "source": [
    "\"\"\"\n",
    "DON'T MODIFY ANYTHING IN THIS CELL\n",
    "\"\"\"\n",
    "from distutils.version import LooseVersion\n",
    "import warnings\n",
    "import tensorflow as tf\n",
    "\n",
    "# Check TensorFlow Version\n",
    "assert LooseVersion(tf.__version__) in [LooseVersion('1.0.0'), LooseVersion('1.0.1')], 'This project requires TensorFlow version 1.0  You are using {}'.format(tf.__version__)\n",
    "print('TensorFlow Version: {}'.format(tf.__version__))\n",
    "\n",
    "# Check for a GPU\n",
    "if not tf.test.gpu_device_name():\n",
    "    warnings.warn('No GPU found. Please use a GPU to train your neural network.')\n",
    "else:\n",
    "    print('Default GPU Device: {}'.format(tf.test.gpu_device_name()))"
   ]
  },
  {
   "cell_type": "markdown",
   "metadata": {
    "deletable": true,
    "editable": true
   },
   "source": [
    "## Build the Neural Network\n",
    "You'll build the components necessary to build a Sequence-to-Sequence model by implementing the following functions below:\n",
    "- `model_inputs`\n",
    "- `process_decoding_input`\n",
    "- `encoding_layer`\n",
    "- `decoding_layer_train`\n",
    "- `decoding_layer_infer`\n",
    "- `decoding_layer`\n",
    "- `seq2seq_model`\n",
    "\n",
    "### Input\n",
    "Implement the `model_inputs()` function to create TF Placeholders for the Neural Network. It should create the following placeholders:\n",
    "\n",
    "- Input text placeholder named \"input\" using the TF Placeholder name parameter with rank 2.\n",
    "- Targets placeholder with rank 2.\n",
    "- Learning rate placeholder with rank 0.\n",
    "- Keep probability placeholder named \"keep_prob\" using the TF Placeholder name parameter with rank 0.\n",
    "\n",
    "Return the placeholders in the following the tuple (Input, Targets, Learing Rate, Keep Probability)"
   ]
  },
  {
   "cell_type": "code",
   "execution_count": 7,
   "metadata": {
    "collapsed": false,
    "deletable": true,
    "editable": true
   },
   "outputs": [
    {
     "name": "stdout",
     "output_type": "stream",
     "text": [
      "Tests Passed\n"
     ]
    }
   ],
   "source": [
    "def model_inputs():\n",
    "    \"\"\"\n",
    "    Create TF Placeholders for input, targets, and learning rate.\n",
    "    :return: Tuple (input, targets, learning rate, keep probability)\n",
    "    \"\"\"\n",
    "    # TODO: Implement Function\n",
    "    inputs = tf.placeholder(tf.int32, shape=[None, None], name=\"input\")\n",
    "    targets = tf.placeholder(tf.int32, shape=[None, None], name=\"targets\")\n",
    "    learning_rate = tf.placeholder(tf.float32, shape=None, name=\"learning_rate\")\n",
    "    keep_prob = tf.placeholder(tf.float32, shape=None, name=\"keep_prob\")\n",
    "    return inputs, targets, learning_rate, keep_prob\n",
    "\n",
    "\"\"\"\n",
    "DON'T MODIFY ANYTHING IN THIS CELL THAT IS BELOW THIS LINE\n",
    "\"\"\"\n",
    "tests.test_model_inputs(model_inputs)"
   ]
  },
  {
   "cell_type": "markdown",
   "metadata": {
    "deletable": true,
    "editable": true
   },
   "source": [
    "### Process Decoding Input\n",
    "Implement `process_decoding_input` using TensorFlow to remove the last word id from each batch in `target_data` and concat the GO ID to the beginning of each batch."
   ]
  },
  {
   "cell_type": "code",
   "execution_count": 8,
   "metadata": {
    "collapsed": false,
    "deletable": true,
    "editable": true
   },
   "outputs": [
    {
     "name": "stdout",
     "output_type": "stream",
     "text": [
      "Tests Passed\n"
     ]
    }
   ],
   "source": [
    "def process_decoding_input(target_data, target_vocab_to_int, batch_size):\n",
    "    \"\"\"\n",
    "    Preprocess target data for dencoding\n",
    "    :param target_data: Target Placehoder\n",
    "    :param target_vocab_to_int: Dictionary to go from the target words to an id\n",
    "    :param batch_size: Batch Size\n",
    "    :return: Preprocessed target data\n",
    "    \"\"\"\n",
    "    # TODO: Implement Function\n",
    "    ending = tf.strided_slice(target_data, [0, 0], [batch_size, -1], [1, 1])\n",
    "    dec_input = tf.concat([tf.fill([batch_size, 1], target_vocab_to_int['<GO>']), ending], 1)\n",
    "    return dec_input\n",
    "\n",
    "\"\"\"\n",
    "DON'T MODIFY ANYTHING IN THIS CELL THAT IS BELOW THIS LINE\n",
    "\"\"\"\n",
    "tests.test_process_decoding_input(process_decoding_input)"
   ]
  },
  {
   "cell_type": "markdown",
   "metadata": {
    "deletable": true,
    "editable": true
   },
   "source": [
    "### Encoding\n",
    "Implement `encoding_layer()` to create a Encoder RNN layer using [`tf.nn.dynamic_rnn()`](https://www.tensorflow.org/api_docs/python/tf/nn/dynamic_rnn)."
   ]
  },
  {
   "cell_type": "code",
   "execution_count": 9,
   "metadata": {
    "collapsed": false,
    "deletable": true,
    "editable": true
   },
   "outputs": [
    {
     "name": "stdout",
     "output_type": "stream",
     "text": [
      "Tests Passed\n"
     ]
    }
   ],
   "source": [
    "def encoding_layer(rnn_inputs, rnn_size, num_layers, keep_prob):\n",
    "    \"\"\"\n",
    "    Create encoding layer\n",
    "    :param rnn_inputs: Inputs for the RNN\n",
    "    :param rnn_size: RNN Size\n",
    "    :param num_layers: Number of layers\n",
    "    :param keep_prob: Dropout keep probability\n",
    "    :return: RNN state\n",
    "    \"\"\"\n",
    "    # TODO: Implement Function\n",
    "    lstm = tf.contrib.rnn.BasicLSTMCell(rnn_size)\n",
    "    drop = tf.contrib.rnn.DropoutWrapper(lstm, keep_prob)\n",
    "    cell = tf.contrib.rnn.MultiRNNCell([drop]*num_layers)\n",
    "    _, out_state = tf.nn.dynamic_rnn(cell, rnn_inputs, dtype=tf.float32)\n",
    "    return out_state\n",
    "\n",
    "\"\"\"\n",
    "DON'T MODIFY ANYTHING IN THIS CELL THAT IS BELOW THIS LINE\n",
    "\"\"\"\n",
    "tests.test_encoding_layer(encoding_layer)"
   ]
  },
  {
   "cell_type": "markdown",
   "metadata": {
    "deletable": true,
    "editable": true
   },
   "source": [
    "### Decoding - Training\n",
    "Create training logits using [`tf.contrib.seq2seq.simple_decoder_fn_train()`](https://www.tensorflow.org/api_docs/python/tf/contrib/seq2seq/simple_decoder_fn_train) and [`tf.contrib.seq2seq.dynamic_rnn_decoder()`](https://www.tensorflow.org/api_docs/python/tf/contrib/seq2seq/dynamic_rnn_decoder).  Apply the `output_fn` to the [`tf.contrib.seq2seq.dynamic_rnn_decoder()`](https://www.tensorflow.org/api_docs/python/tf/contrib/seq2seq/dynamic_rnn_decoder) outputs."
   ]
  },
  {
   "cell_type": "code",
   "execution_count": 10,
   "metadata": {
    "collapsed": false,
    "deletable": true,
    "editable": true
   },
   "outputs": [
    {
     "name": "stdout",
     "output_type": "stream",
     "text": [
      "Tests Passed\n"
     ]
    }
   ],
   "source": [
    "def decoding_layer_train(encoder_state, dec_cell, dec_embed_input, sequence_length, decoding_scope,\n",
    "                         output_fn, keep_prob):\n",
    "    \"\"\"\n",
    "    Create a decoding layer for training\n",
    "    :param encoder_state: Encoder State\n",
    "    :param dec_cell: Decoder RNN Cell\n",
    "    :param dec_embed_input: Decoder embedded input\n",
    "    :param sequence_length: Sequence Length\n",
    "    :param decoding_scope: TenorFlow Variable Scope for decoding\n",
    "    :param output_fn: Function to apply the output layer\n",
    "    :param keep_prob: Dropout keep probability\n",
    "    :return: Train Logits\n",
    "    \"\"\"\n",
    "    # TODO: Implement Function\n",
    "    decoder_fn_train = tf.contrib.seq2seq.simple_decoder_fn_train(encoder_state)\n",
    "    dec_cell = tf.contrib.rnn.DropoutWrapper(dec_cell, keep_prob)\n",
    "    output_train,_,_ = tf.contrib.seq2seq.dynamic_rnn_decoder(dec_cell, decoder_fn_train, \n",
    "                                                              dec_embed_input, sequence_length,\n",
    "                                                              scope=decoding_scope)\n",
    "    train_logits = output_fn(output_train)\n",
    "    return train_logits\n",
    "\n",
    "\"\"\"\n",
    "DON'T MODIFY ANYTHING IN THIS CELL THAT IS BELOW THIS LINE\n",
    "\"\"\"\n",
    "tests.test_decoding_layer_train(decoding_layer_train)"
   ]
  },
  {
   "cell_type": "markdown",
   "metadata": {
    "deletable": true,
    "editable": true
   },
   "source": [
    "### Decoding - Inference\n",
    "Create inference logits using [`tf.contrib.seq2seq.simple_decoder_fn_inference()`](https://www.tensorflow.org/api_docs/python/tf/contrib/seq2seq/simple_decoder_fn_inference) and [`tf.contrib.seq2seq.dynamic_rnn_decoder()`](https://www.tensorflow.org/api_docs/python/tf/contrib/seq2seq/dynamic_rnn_decoder). "
   ]
  },
  {
   "cell_type": "code",
   "execution_count": 11,
   "metadata": {
    "collapsed": false,
    "deletable": true,
    "editable": true
   },
   "outputs": [
    {
     "name": "stdout",
     "output_type": "stream",
     "text": [
      "Tests Passed\n"
     ]
    }
   ],
   "source": [
    "def decoding_layer_infer(encoder_state, dec_cell, dec_embeddings, start_of_sequence_id, end_of_sequence_id,\n",
    "                         maximum_length, vocab_size, decoding_scope, output_fn, keep_prob):\n",
    "    \"\"\"\n",
    "    Create a decoding layer for inference\n",
    "    :param encoder_state: Encoder state\n",
    "    :param dec_cell: Decoder RNN Cell\n",
    "    :param dec_embeddings: Decoder embeddings\n",
    "    :param start_of_sequence_id: GO ID\n",
    "    :param end_of_sequence_id: EOS Id\n",
    "    :param maximum_length: The maximum allowed time steps to decode\n",
    "    :param vocab_size: Size of vocabulary\n",
    "    :param decoding_scope: TensorFlow Variable Scope for decoding\n",
    "    :param output_fn: Function to apply the output layer\n",
    "    :param keep_prob: Dropout keep probability\n",
    "    :return: Inference Logits\n",
    "    \"\"\"\n",
    "    # TODO: Implement Function\n",
    "    decoder_fn_infer = tf.contrib.seq2seq.simple_decoder_fn_inference(output_fn, encoder_state, dec_embeddings,\n",
    "                                                                      start_of_sequence_id, end_of_sequence_id, \n",
    "                                                                      maximum_length, vocab_size) \n",
    "    infer_logits,_,_ = tf.contrib.seq2seq.dynamic_rnn_decoder(dec_cell, decoder_fn_infer, scope = decoding_scope)\n",
    "    return infer_logits\n",
    "\n",
    "\"\"\"\n",
    "DON'T MODIFY ANYTHING IN THIS CELL THAT IS BELOW THIS LINE\n",
    "\"\"\"\n",
    "tests.test_decoding_layer_infer(decoding_layer_infer)"
   ]
  },
  {
   "cell_type": "markdown",
   "metadata": {
    "deletable": true,
    "editable": true
   },
   "source": [
    "### Build the Decoding Layer\n",
    "Implement `decoding_layer()` to create a Decoder RNN layer.\n",
    "\n",
    "- Create RNN cell for decoding using `rnn_size` and `num_layers`.\n",
    "- Create the output fuction using [`lambda`](https://docs.python.org/3/tutorial/controlflow.html#lambda-expressions) to transform it's input, logits, to class logits.\n",
    "- Use the your `decoding_layer_train(encoder_state, dec_cell, dec_embed_input, sequence_length, decoding_scope, output_fn, keep_prob)` function to get the training logits.\n",
    "- Use your `decoding_layer_infer(encoder_state, dec_cell, dec_embeddings, start_of_sequence_id, end_of_sequence_id, maximum_length, vocab_size, decoding_scope, output_fn, keep_prob)` function to get the inference logits.\n",
    "\n",
    "Note: You'll need to use [tf.variable_scope](https://www.tensorflow.org/api_docs/python/tf/variable_scope) to share variables between training and inference."
   ]
  },
  {
   "cell_type": "code",
   "execution_count": 12,
   "metadata": {
    "collapsed": false,
    "deletable": true,
    "editable": true
   },
   "outputs": [
    {
     "name": "stdout",
     "output_type": "stream",
     "text": [
      "Tests Passed\n"
     ]
    }
   ],
   "source": [
    "def decoding_layer(dec_embed_input, dec_embeddings, encoder_state, vocab_size, sequence_length, rnn_size,\n",
    "                   num_layers, target_vocab_to_int, keep_prob):\n",
    "    \"\"\"\n",
    "    Create decoding layer\n",
    "    :param dec_embed_input: Decoder embedded input\n",
    "    :param dec_embeddings: Decoder embeddings\n",
    "    :param encoder_state: The encoded state\n",
    "    :param vocab_size: Size of vocabulary\n",
    "    :param sequence_length: Sequence Length\n",
    "    :param rnn_size: RNN Size\n",
    "    :param num_layers: Number of layers\n",
    "    :param target_vocab_to_int: Dictionary to go from the target words to an id\n",
    "    :param keep_prob: Dropout keep probability\n",
    "    :return: Tuple of (Training Logits, Inference Logits)\n",
    "    \"\"\"\n",
    "    # TODO: Implement Function\n",
    "    lstm = tf.contrib.rnn.BasicLSTMCell(rnn_size)\n",
    "    drop = tf.contrib.rnn.DropoutWrapper(lstm, keep_prob)\n",
    "    cell = tf.contrib.rnn.MultiRNNCell([drop]*num_layers)\n",
    "    \n",
    "    start_of_sequence_id = target_vocab_to_int['<GO>']\n",
    "    end_of_sequence_id = target_vocab_to_int['<EOS>']\n",
    "    \n",
    "    with tf.variable_scope(\"decoding\") as decoding_scope:\n",
    "        # Training decoder\n",
    "        output_fn = lambda x: tf.contrib.layers.fully_connected(x, vocab_size, None, scope=decoding_scope)\n",
    "    \n",
    "    with tf.variable_scope(\"decoding\") as decoding_scope:\n",
    "        train_logits = decoding_layer_train(encoder_state, cell, dec_embed_input, \n",
    "                                            sequence_length, decoding_scope, output_fn, keep_prob)\n",
    "    with tf.variable_scope(\"decoding\", reuse=True) as decoding_scope:\n",
    "        infer_logits = decoding_layer_infer(encoder_state, cell, dec_embeddings, \n",
    "                                            start_of_sequence_id, end_of_sequence_id,\n",
    "                                            sequence_length, vocab_size, decoding_scope, output_fn, keep_prob)\n",
    "    return (train_logits, infer_logits)\n",
    "\n",
    "\"\"\"\n",
    "DON'T MODIFY ANYTHING IN THIS CELL THAT IS BELOW THIS LINE\n",
    "\"\"\"\n",
    "tests.test_decoding_layer(decoding_layer)"
   ]
  },
  {
   "cell_type": "markdown",
   "metadata": {
    "deletable": true,
    "editable": true
   },
   "source": [
    "### Build the Neural Network\n",
    "Apply the functions you implemented above to:\n",
    "\n",
    "- Apply embedding to the input data for the encoder.\n",
    "- Encode the input using your `encoding_layer(rnn_inputs, rnn_size, num_layers, keep_prob)`.\n",
    "- Process target data using your `process_decoding_input(target_data, target_vocab_to_int, batch_size)` function.\n",
    "- Apply embedding to the target data for the decoder.\n",
    "- Decode the encoded input using your `decoding_layer(dec_embed_input, dec_embeddings, encoder_state, vocab_size, sequence_length, rnn_size, num_layers, target_vocab_to_int, keep_prob)`."
   ]
  },
  {
   "cell_type": "code",
   "execution_count": 13,
   "metadata": {
    "collapsed": false,
    "deletable": true,
    "editable": true
   },
   "outputs": [
    {
     "name": "stdout",
     "output_type": "stream",
     "text": [
      "Tests Passed\n"
     ]
    }
   ],
   "source": [
    "def seq2seq_model(input_data, target_data, keep_prob, batch_size, sequence_length, source_vocab_size, target_vocab_size,\n",
    "                  enc_embedding_size, dec_embedding_size, rnn_size, num_layers, target_vocab_to_int):\n",
    "    \"\"\"\n",
    "    Build the Sequence-to-Sequence part of the neural network\n",
    "    :param input_data: Input placeholder\n",
    "    :param target_data: Target placeholder\n",
    "    :param keep_prob: Dropout keep probability placeholder\n",
    "    :param batch_size: Batch Size\n",
    "    :param sequence_length: Sequence Length\n",
    "    :param source_vocab_size: Source vocabulary size\n",
    "    :param target_vocab_size: Target vocabulary size\n",
    "    :param enc_embedding_size: Decoder embedding size\n",
    "    :param dec_embedding_size: Encoder embedding size\n",
    "    :param rnn_size: RNN Size\n",
    "    :param num_layers: Number of layers\n",
    "    :param target_vocab_to_int: Dictionary to go from the target words to an id\n",
    "    :return: Tuple of (Training Logits, Inference Logits)\n",
    "    \"\"\"\n",
    "    # TODO: Implement Function\n",
    "    enc_embeddings = tf.Variable(tf.random_uniform([source_vocab_size, enc_embedding_size], -1.0, 1.0))\n",
    "    enc_embed = tf.nn.embedding_lookup(enc_embeddings, input_data)\n",
    "    \n",
    "    encoder_state = encoding_layer(enc_embed, rnn_size, num_layers, keep_prob)\n",
    "    \n",
    "    dec_input = process_decoding_input(target_data, target_vocab_to_int, batch_size)\n",
    "    \n",
    "    dec_embeddings = tf.Variable(tf.random_uniform([source_vocab_size, dec_embedding_size], -1.0, 1.0))\n",
    "    dec_embed = tf.nn.embedding_lookup(dec_embeddings, dec_input)\n",
    "    \n",
    "    (train_logits, infer_logits) = decoding_layer(dec_embed, dec_embeddings, encoder_state, target_vocab_size, \n",
    "                   sequence_length, rnn_size, num_layers, target_vocab_to_int, keep_prob)\n",
    "    \n",
    "    return (train_logits, infer_logits)\n",
    "\n",
    "\n",
    "\"\"\"\n",
    "DON'T MODIFY ANYTHING IN THIS CELL THAT IS BELOW THIS LINE\n",
    "\"\"\"\n",
    "tests.test_seq2seq_model(seq2seq_model)"
   ]
  },
  {
   "cell_type": "markdown",
   "metadata": {
    "deletable": true,
    "editable": true
   },
   "source": [
    "## Neural Network Training\n",
    "### Hyperparameters\n",
    "Tune the following parameters:\n",
    "\n",
    "- Set `epochs` to the number of epochs.\n",
    "- Set `batch_size` to the batch size.\n",
    "- Set `rnn_size` to the size of the RNNs.\n",
    "- Set `num_layers` to the number of layers.\n",
    "- Set `encoding_embedding_size` to the size of the embedding for the encoder.\n",
    "- Set `decoding_embedding_size` to the size of the embedding for the decoder.\n",
    "- Set `learning_rate` to the learning rate.\n",
    "- Set `keep_probability` to the Dropout keep probability"
   ]
  },
  {
   "cell_type": "code",
   "execution_count": 37,
   "metadata": {
    "collapsed": true,
    "deletable": true,
    "editable": true
   },
   "outputs": [],
   "source": [
    "# Number of Epochs\n",
    "epochs =  1\n",
    "# Batch Size\n",
    "batch_size = 128\n",
    "# RNN Size\n",
    "rnn_size = 512\n",
    "# Number of Layers\n",
    "num_layers = 8\n",
    "# Embedding Size\n",
    "encoding_embedding_size = 512\n",
    "decoding_embedding_size = 512\n",
    "# Learning Rate\n",
    "learning_rate = 0.001\n",
    "# Dropout Keep Probability\n",
    "keep_probability = 0.5"
   ]
  },
  {
   "cell_type": "markdown",
   "metadata": {
    "deletable": true,
    "editable": true
   },
   "source": [
    "### Build the Graph\n",
    "Build the graph using the neural network you implemented."
   ]
  },
  {
   "cell_type": "code",
   "execution_count": null,
   "metadata": {
    "collapsed": false,
    "deletable": true,
    "editable": true
   },
   "outputs": [],
   "source": [
    "\"\"\"\n",
    "DON'T MODIFY ANYTHING IN THIS CELL\n",
    "\"\"\"\n",
    "save_path = 'checkpoints/dev'\n",
    "(source_int_text, target_int_text), (source_vocab_to_int, target_vocab_to_int), _ = helper.load_preprocess()\n",
    "max_source_sentence_length = max([len(sentence) for sentence in source_int_text])\n",
    "\n",
    "train_graph = tf.Graph()\n",
    "with train_graph.as_default():\n",
    "    input_data, targets, lr, keep_prob = model_inputs()\n",
    "    sequence_length = tf.placeholder_with_default(max_source_sentence_length, None, name='sequence_length')\n",
    "    input_shape = tf.shape(input_data)\n",
    "    \n",
    "    train_logits, inference_logits = seq2seq_model(\n",
    "        tf.reverse(input_data, [-1]), targets, keep_prob, batch_size, sequence_length, len(source_vocab_to_int), len(target_vocab_to_int),\n",
    "        encoding_embedding_size, decoding_embedding_size, rnn_size, num_layers, target_vocab_to_int)\n",
    "\n",
    "    tf.identity(inference_logits, 'logits')\n",
    "    with tf.name_scope(\"optimization\"):\n",
    "        # Loss function\n",
    "        cost = tf.contrib.seq2seq.sequence_loss(\n",
    "            train_logits,\n",
    "            targets,\n",
    "            tf.ones([input_shape[0], sequence_length]))\n",
    "\n",
    "        # Optimizer\n",
    "        optimizer = tf.train.AdamOptimizer(lr)\n",
    "\n",
    "        # Gradient Clipping\n",
    "        gradients = optimizer.compute_gradients(cost)\n",
    "        capped_gradients = [(tf.clip_by_value(grad, -1., 1.), var) for grad, var in gradients if grad is not None]\n",
    "        train_op = optimizer.apply_gradients(capped_gradients)"
   ]
  },
  {
   "cell_type": "markdown",
   "metadata": {
    "deletable": true,
    "editable": true
   },
   "source": [
    "### Train\n",
    "Train the neural network on the preprocessed data. If you have a hard time getting a good loss, check the forms to see if anyone is having the same problem."
   ]
  },
  {
   "cell_type": "code",
   "execution_count": null,
   "metadata": {
    "collapsed": false,
    "deletable": true,
    "editable": true,
    "scrolled": true
   },
   "outputs": [
    {
     "name": "stdout",
     "output_type": "stream",
     "text": [
      "Epoch   0 Batch    0/1077 - Train Accuracy:  0.294, Validation Accuracy:  0.305, Loss:  5.881\n",
      "Epoch   0 Batch    1/1077 - Train Accuracy:  0.221, Validation Accuracy:  0.305, Loss:  5.837\n",
      "Epoch   0 Batch    2/1077 - Train Accuracy:  0.245, Validation Accuracy:  0.336, Loss:  4.782\n",
      "Epoch   0 Batch    3/1077 - Train Accuracy:  0.168, Validation Accuracy:  0.239, Loss:  4.195\n",
      "Epoch   0 Batch    4/1077 - Train Accuracy:  0.263, Validation Accuracy:  0.337, Loss:  4.575\n",
      "Epoch   0 Batch    5/1077 - Train Accuracy:  0.293, Validation Accuracy:  0.336, Loss:  3.878\n",
      "Epoch   0 Batch    6/1077 - Train Accuracy:  0.278, Validation Accuracy:  0.336, Loss:  3.669\n",
      "Epoch   0 Batch    7/1077 - Train Accuracy:  0.275, Validation Accuracy:  0.346, Loss:  3.699\n",
      "Epoch   0 Batch    8/1077 - Train Accuracy:  0.296, Validation Accuracy:  0.364, Loss:  3.518\n",
      "Epoch   0 Batch    9/1077 - Train Accuracy:  0.302, Validation Accuracy:  0.364, Loss:  3.490\n",
      "Epoch   0 Batch   10/1077 - Train Accuracy:  0.272, Validation Accuracy:  0.365, Loss:  3.552\n",
      "Epoch   0 Batch   11/1077 - Train Accuracy:  0.316, Validation Accuracy:  0.362, Loss:  3.234\n",
      "Epoch   0 Batch   12/1077 - Train Accuracy:  0.295, Validation Accuracy:  0.362, Loss:  3.323\n",
      "Epoch   0 Batch   13/1077 - Train Accuracy:  0.350, Validation Accuracy:  0.367, Loss:  3.148\n",
      "Epoch   0 Batch   14/1077 - Train Accuracy:  0.333, Validation Accuracy:  0.371, Loss:  3.114\n",
      "Epoch   0 Batch   15/1077 - Train Accuracy:  0.309, Validation Accuracy:  0.370, Loss:  3.231\n",
      "Epoch   0 Batch   16/1077 - Train Accuracy:  0.325, Validation Accuracy:  0.371, Loss:  3.194\n",
      "Epoch   0 Batch   17/1077 - Train Accuracy:  0.323, Validation Accuracy:  0.371, Loss:  3.122\n",
      "Epoch   0 Batch   18/1077 - Train Accuracy:  0.314, Validation Accuracy:  0.379, Loss:  3.176\n",
      "Epoch   0 Batch   19/1077 - Train Accuracy:  0.339, Validation Accuracy:  0.384, Loss:  3.049\n",
      "Epoch   0 Batch   20/1077 - Train Accuracy:  0.316, Validation Accuracy:  0.375, Loss:  3.064\n",
      "Epoch   0 Batch   21/1077 - Train Accuracy:  0.311, Validation Accuracy:  0.385, Loss:  3.107\n",
      "Epoch   0 Batch   22/1077 - Train Accuracy:  0.314, Validation Accuracy:  0.376, Loss:  3.082\n",
      "Epoch   0 Batch   23/1077 - Train Accuracy:  0.315, Validation Accuracy:  0.374, Loss:  3.117\n",
      "Epoch   0 Batch   24/1077 - Train Accuracy:  0.334, Validation Accuracy:  0.392, Loss:  3.012\n",
      "Epoch   0 Batch   25/1077 - Train Accuracy:  0.318, Validation Accuracy:  0.392, Loss:  3.117\n",
      "Epoch   0 Batch   26/1077 - Train Accuracy:  0.325, Validation Accuracy:  0.392, Loss:  3.031\n",
      "Epoch   0 Batch   27/1077 - Train Accuracy:  0.360, Validation Accuracy:  0.389, Loss:  2.842\n",
      "Epoch   0 Batch   28/1077 - Train Accuracy:  0.334, Validation Accuracy:  0.389, Loss:  2.987\n",
      "Epoch   0 Batch   29/1077 - Train Accuracy:  0.335, Validation Accuracy:  0.393, Loss:  2.967\n",
      "Epoch   0 Batch   30/1077 - Train Accuracy:  0.318, Validation Accuracy:  0.382, Loss:  2.951\n",
      "Epoch   0 Batch   31/1077 - Train Accuracy:  0.315, Validation Accuracy:  0.382, Loss:  3.038\n",
      "Epoch   0 Batch   32/1077 - Train Accuracy:  0.374, Validation Accuracy:  0.383, Loss:  2.830\n",
      "Epoch   0 Batch   33/1077 - Train Accuracy:  0.353, Validation Accuracy:  0.390, Loss:  2.878\n",
      "Epoch   0 Batch   34/1077 - Train Accuracy:  0.337, Validation Accuracy:  0.391, Loss:  2.907\n",
      "Epoch   0 Batch   35/1077 - Train Accuracy:  0.332, Validation Accuracy:  0.382, Loss:  2.917\n",
      "Epoch   0 Batch   36/1077 - Train Accuracy:  0.333, Validation Accuracy:  0.392, Loss:  2.965\n",
      "Epoch   0 Batch   37/1077 - Train Accuracy:  0.332, Validation Accuracy:  0.395, Loss:  2.903\n",
      "Epoch   0 Batch   38/1077 - Train Accuracy:  0.289, Validation Accuracy:  0.395, Loss:  3.116\n",
      "Epoch   0 Batch   39/1077 - Train Accuracy:  0.332, Validation Accuracy:  0.391, Loss:  2.956\n",
      "Epoch   0 Batch   40/1077 - Train Accuracy:  0.321, Validation Accuracy:  0.382, Loss:  2.909\n",
      "Epoch   0 Batch   41/1077 - Train Accuracy:  0.369, Validation Accuracy:  0.395, Loss:  2.776\n",
      "Epoch   0 Batch   42/1077 - Train Accuracy:  0.331, Validation Accuracy:  0.395, Loss:  2.897\n",
      "Epoch   0 Batch   43/1077 - Train Accuracy:  0.310, Validation Accuracy:  0.391, Loss:  2.876\n",
      "Epoch   0 Batch   44/1077 - Train Accuracy:  0.287, Validation Accuracy:  0.391, Loss:  3.062\n",
      "Epoch   0 Batch   45/1077 - Train Accuracy:  0.316, Validation Accuracy:  0.380, Loss:  2.882\n",
      "Epoch   0 Batch   46/1077 - Train Accuracy:  0.308, Validation Accuracy:  0.391, Loss:  3.021\n",
      "Epoch   0 Batch   47/1077 - Train Accuracy:  0.338, Validation Accuracy:  0.394, Loss:  2.835\n",
      "Epoch   0 Batch   48/1077 - Train Accuracy:  0.335, Validation Accuracy:  0.391, Loss:  2.879\n",
      "Epoch   0 Batch   49/1077 - Train Accuracy:  0.349, Validation Accuracy:  0.398, Loss:  2.857\n",
      "Epoch   0 Batch   50/1077 - Train Accuracy:  0.330, Validation Accuracy:  0.395, Loss:  2.884\n",
      "Epoch   0 Batch   51/1077 - Train Accuracy:  0.341, Validation Accuracy:  0.395, Loss:  2.886\n",
      "Epoch   0 Batch   52/1077 - Train Accuracy:  0.325, Validation Accuracy:  0.397, Loss:  2.870\n",
      "Epoch   0 Batch   53/1077 - Train Accuracy:  0.319, Validation Accuracy:  0.391, Loss:  2.884\n",
      "Epoch   0 Batch   54/1077 - Train Accuracy:  0.321, Validation Accuracy:  0.395, Loss:  3.004\n",
      "Epoch   0 Batch   55/1077 - Train Accuracy:  0.343, Validation Accuracy:  0.392, Loss:  2.785\n",
      "Epoch   0 Batch   56/1077 - Train Accuracy:  0.332, Validation Accuracy:  0.386, Loss:  2.833\n",
      "Epoch   0 Batch   57/1077 - Train Accuracy:  0.396, Validation Accuracy:  0.386, Loss:  2.568\n",
      "Epoch   0 Batch   58/1077 - Train Accuracy:  0.333, Validation Accuracy:  0.401, Loss:  2.868\n",
      "Epoch   0 Batch   59/1077 - Train Accuracy:  0.302, Validation Accuracy:  0.398, Loss:  2.916\n",
      "Epoch   0 Batch   60/1077 - Train Accuracy:  0.366, Validation Accuracy:  0.398, Loss:  2.732\n",
      "Epoch   0 Batch   61/1077 - Train Accuracy:  0.333, Validation Accuracy:  0.401, Loss:  2.827\n",
      "Epoch   0 Batch   62/1077 - Train Accuracy:  0.310, Validation Accuracy:  0.395, Loss:  2.926\n",
      "Epoch   0 Batch   63/1077 - Train Accuracy:  0.366, Validation Accuracy:  0.395, Loss:  2.664\n",
      "Epoch   0 Batch   64/1077 - Train Accuracy:  0.327, Validation Accuracy:  0.396, Loss:  2.820\n",
      "Epoch   0 Batch   65/1077 - Train Accuracy:  0.294, Validation Accuracy:  0.398, Loss:  2.926\n",
      "Epoch   0 Batch   66/1077 - Train Accuracy:  0.346, Validation Accuracy:  0.395, Loss:  2.736\n",
      "Epoch   0 Batch   67/1077 - Train Accuracy:  0.378, Validation Accuracy:  0.395, Loss:  2.665\n",
      "Epoch   0 Batch   68/1077 - Train Accuracy:  0.326, Validation Accuracy:  0.401, Loss:  2.825\n",
      "Epoch   0 Batch   69/1077 - Train Accuracy:  0.350, Validation Accuracy:  0.398, Loss:  2.820\n",
      "Epoch   0 Batch   70/1077 - Train Accuracy:  0.303, Validation Accuracy:  0.405, Loss:  2.937\n",
      "Epoch   0 Batch   71/1077 - Train Accuracy:  0.340, Validation Accuracy:  0.404, Loss:  2.744\n",
      "Epoch   0 Batch   72/1077 - Train Accuracy:  0.337, Validation Accuracy:  0.397, Loss:  2.766\n",
      "Epoch   0 Batch   73/1077 - Train Accuracy:  0.341, Validation Accuracy:  0.397, Loss:  2.808\n",
      "Epoch   0 Batch   74/1077 - Train Accuracy:  0.360, Validation Accuracy:  0.397, Loss:  2.659\n",
      "Epoch   0 Batch   75/1077 - Train Accuracy:  0.351, Validation Accuracy:  0.401, Loss:  2.714\n",
      "Epoch   0 Batch   76/1077 - Train Accuracy:  0.337, Validation Accuracy:  0.402, Loss:  2.767\n",
      "Epoch   0 Batch   77/1077 - Train Accuracy:  0.331, Validation Accuracy:  0.397, Loss:  2.810\n",
      "Epoch   0 Batch   78/1077 - Train Accuracy:  0.296, Validation Accuracy:  0.397, Loss:  2.895\n",
      "Epoch   0 Batch   79/1077 - Train Accuracy:  0.341, Validation Accuracy:  0.400, Loss:  2.825\n",
      "Epoch   0 Batch   80/1077 - Train Accuracy:  0.347, Validation Accuracy:  0.404, Loss:  2.717\n",
      "Epoch   0 Batch   81/1077 - Train Accuracy:  0.332, Validation Accuracy:  0.395, Loss:  2.742\n",
      "Epoch   0 Batch   82/1077 - Train Accuracy:  0.407, Validation Accuracy:  0.414, Loss:  3.233\n",
      "Epoch   0 Batch   83/1077 - Train Accuracy:  0.306, Validation Accuracy:  0.388, Loss:  2.838\n",
      "Epoch   0 Batch   84/1077 - Train Accuracy:  0.351, Validation Accuracy:  0.399, Loss:  2.771\n",
      "Epoch   0 Batch   85/1077 - Train Accuracy:  0.345, Validation Accuracy:  0.405, Loss:  2.696\n",
      "Epoch   0 Batch   86/1077 - Train Accuracy:  0.343, Validation Accuracy:  0.403, Loss:  2.781\n",
      "Epoch   0 Batch   87/1077 - Train Accuracy:  0.347, Validation Accuracy:  0.402, Loss:  2.821\n",
      "Epoch   0 Batch   88/1077 - Train Accuracy:  0.351, Validation Accuracy:  0.405, Loss:  2.746\n",
      "Epoch   0 Batch   89/1077 - Train Accuracy:  0.345, Validation Accuracy:  0.397, Loss:  2.712\n",
      "Epoch   0 Batch   90/1077 - Train Accuracy:  0.333, Validation Accuracy:  0.398, Loss:  2.794\n",
      "Epoch   0 Batch   91/1077 - Train Accuracy:  0.376, Validation Accuracy:  0.403, Loss:  2.645\n",
      "Epoch   0 Batch   92/1077 - Train Accuracy:  0.363, Validation Accuracy:  0.405, Loss:  2.675\n",
      "Epoch   0 Batch   93/1077 - Train Accuracy:  0.337, Validation Accuracy:  0.401, Loss:  2.772\n",
      "Epoch   0 Batch   94/1077 - Train Accuracy:  0.351, Validation Accuracy:  0.403, Loss:  2.699\n",
      "Epoch   0 Batch   95/1077 - Train Accuracy:  0.374, Validation Accuracy:  0.405, Loss:  2.680\n",
      "Epoch   0 Batch   96/1077 - Train Accuracy:  0.338, Validation Accuracy:  0.399, Loss:  2.761\n",
      "Epoch   0 Batch   97/1077 - Train Accuracy:  0.216, Validation Accuracy:  0.305, Loss:  2.754\n",
      "Epoch   0 Batch   98/1077 - Train Accuracy:  0.365, Validation Accuracy:  0.385, Loss:  4.152\n",
      "Epoch   0 Batch   99/1077 - Train Accuracy:  0.314, Validation Accuracy:  0.383, Loss:  2.931\n",
      "Epoch   0 Batch  100/1077 - Train Accuracy:  0.336, Validation Accuracy:  0.405, Loss:  2.828\n",
      "Epoch   0 Batch  101/1077 - Train Accuracy:  0.333, Validation Accuracy:  0.394, Loss:  2.713\n",
      "Epoch   0 Batch  102/1077 - Train Accuracy:  0.347, Validation Accuracy:  0.393, Loss:  2.772\n",
      "Epoch   0 Batch  103/1077 - Train Accuracy:  0.309, Validation Accuracy:  0.401, Loss:  2.929\n",
      "Epoch   0 Batch  104/1077 - Train Accuracy:  0.283, Validation Accuracy:  0.396, Loss:  3.012\n",
      "Epoch   0 Batch  105/1077 - Train Accuracy:  0.318, Validation Accuracy:  0.375, Loss:  2.735\n",
      "Epoch   0 Batch  106/1077 - Train Accuracy:  0.317, Validation Accuracy:  0.389, Loss:  3.022\n",
      "Epoch   0 Batch  107/1077 - Train Accuracy:  0.364, Validation Accuracy:  0.403, Loss:  2.670\n",
      "Epoch   0 Batch  108/1077 - Train Accuracy:  0.391, Validation Accuracy:  0.400, Loss:  2.510\n",
      "Epoch   0 Batch  109/1077 - Train Accuracy:  0.336, Validation Accuracy:  0.394, Loss:  2.753\n",
      "Epoch   0 Batch  110/1077 - Train Accuracy:  0.346, Validation Accuracy:  0.394, Loss:  2.707\n",
      "Epoch   0 Batch  111/1077 - Train Accuracy:  0.332, Validation Accuracy:  0.397, Loss:  2.778\n",
      "Epoch   0 Batch  112/1077 - Train Accuracy:  0.341, Validation Accuracy:  0.400, Loss:  2.761\n",
      "Epoch   0 Batch  113/1077 - Train Accuracy:  0.334, Validation Accuracy:  0.400, Loss:  2.770\n",
      "Epoch   0 Batch  114/1077 - Train Accuracy:  0.367, Validation Accuracy:  0.400, Loss:  2.671\n",
      "Epoch   0 Batch  115/1077 - Train Accuracy:  0.335, Validation Accuracy:  0.399, Loss:  2.808\n",
      "Epoch   0 Batch  116/1077 - Train Accuracy:  0.327, Validation Accuracy:  0.406, Loss:  2.741\n",
      "Epoch   0 Batch  117/1077 - Train Accuracy:  0.327, Validation Accuracy:  0.406, Loss:  2.798\n",
      "Epoch   0 Batch  118/1077 - Train Accuracy:  0.294, Validation Accuracy:  0.401, Loss:  2.851\n",
      "Epoch   0 Batch  119/1077 - Train Accuracy:  0.334, Validation Accuracy:  0.394, Loss:  2.720\n",
      "Epoch   0 Batch  120/1077 - Train Accuracy:  0.327, Validation Accuracy:  0.395, Loss:  2.747\n",
      "Epoch   0 Batch  121/1077 - Train Accuracy:  0.344, Validation Accuracy:  0.404, Loss:  2.690\n",
      "Epoch   0 Batch  122/1077 - Train Accuracy:  0.342, Validation Accuracy:  0.404, Loss:  2.723\n",
      "Epoch   0 Batch  123/1077 - Train Accuracy:  0.350, Validation Accuracy:  0.403, Loss:  2.695\n",
      "Epoch   0 Batch  124/1077 - Train Accuracy:  0.331, Validation Accuracy:  0.397, Loss:  2.783\n",
      "Epoch   0 Batch  125/1077 - Train Accuracy:  0.368, Validation Accuracy:  0.397, Loss:  2.632\n",
      "Epoch   0 Batch  126/1077 - Train Accuracy:  0.372, Validation Accuracy:  0.395, Loss:  2.591\n",
      "Epoch   0 Batch  127/1077 - Train Accuracy:  0.340, Validation Accuracy:  0.395, Loss:  2.726\n",
      "Epoch   0 Batch  128/1077 - Train Accuracy:  0.372, Validation Accuracy:  0.402, Loss:  2.626\n",
      "Epoch   0 Batch  129/1077 - Train Accuracy:  0.345, Validation Accuracy:  0.398, Loss:  2.774\n",
      "Epoch   0 Batch  130/1077 - Train Accuracy:  0.351, Validation Accuracy:  0.400, Loss:  2.639\n",
      "Epoch   0 Batch  131/1077 - Train Accuracy:  0.330, Validation Accuracy:  0.404, Loss:  2.799\n",
      "Epoch   0 Batch  132/1077 - Train Accuracy:  0.325, Validation Accuracy:  0.407, Loss:  2.799\n",
      "Epoch   0 Batch  133/1077 - Train Accuracy:  0.305, Validation Accuracy:  0.407, Loss:  2.803\n",
      "Epoch   0 Batch  134/1077 - Train Accuracy:  0.357, Validation Accuracy:  0.402, Loss:  2.660\n",
      "Epoch   0 Batch  135/1077 - Train Accuracy:  0.316, Validation Accuracy:  0.402, Loss:  2.846\n",
      "Epoch   0 Batch  136/1077 - Train Accuracy:  0.331, Validation Accuracy:  0.403, Loss:  2.742\n",
      "Epoch   0 Batch  137/1077 - Train Accuracy:  0.376, Validation Accuracy:  0.406, Loss:  2.548\n",
      "Epoch   0 Batch  138/1077 - Train Accuracy:  0.339, Validation Accuracy:  0.402, Loss:  2.703\n",
      "Epoch   0 Batch  139/1077 - Train Accuracy:  0.350, Validation Accuracy:  0.404, Loss:  2.692\n",
      "Epoch   0 Batch  140/1077 - Train Accuracy:  0.288, Validation Accuracy:  0.394, Loss:  2.850\n",
      "Epoch   0 Batch  141/1077 - Train Accuracy:  0.327, Validation Accuracy:  0.399, Loss:  2.774\n",
      "Epoch   0 Batch  142/1077 - Train Accuracy:  0.374, Validation Accuracy:  0.404, Loss:  2.558\n",
      "Epoch   0 Batch  143/1077 - Train Accuracy:  0.334, Validation Accuracy:  0.404, Loss:  2.707\n",
      "Epoch   0 Batch  144/1077 - Train Accuracy:  0.307, Validation Accuracy:  0.405, Loss:  2.840\n",
      "Epoch   0 Batch  145/1077 - Train Accuracy:  0.355, Validation Accuracy:  0.405, Loss:  2.603\n",
      "Epoch   0 Batch  146/1077 - Train Accuracy:  0.372, Validation Accuracy:  0.406, Loss:  2.638\n",
      "Epoch   0 Batch  147/1077 - Train Accuracy:  0.331, Validation Accuracy:  0.407, Loss:  2.753\n",
      "Epoch   0 Batch  148/1077 - Train Accuracy:  0.335, Validation Accuracy:  0.401, Loss:  2.736\n",
      "Epoch   0 Batch  149/1077 - Train Accuracy:  0.343, Validation Accuracy:  0.401, Loss:  2.708\n",
      "Epoch   0 Batch  150/1077 - Train Accuracy:  0.369, Validation Accuracy:  0.401, Loss:  2.608\n",
      "Epoch   0 Batch  151/1077 - Train Accuracy:  0.365, Validation Accuracy:  0.404, Loss:  2.615\n",
      "Epoch   0 Batch  152/1077 - Train Accuracy:  0.347, Validation Accuracy:  0.406, Loss:  2.699\n",
      "Epoch   0 Batch  153/1077 - Train Accuracy:  0.336, Validation Accuracy:  0.404, Loss:  2.736\n",
      "Epoch   0 Batch  154/1077 - Train Accuracy:  0.297, Validation Accuracy:  0.405, Loss:  2.833\n",
      "Epoch   0 Batch  155/1077 - Train Accuracy:  0.327, Validation Accuracy:  0.407, Loss:  2.731\n",
      "Epoch   0 Batch  156/1077 - Train Accuracy:  0.329, Validation Accuracy:  0.405, Loss:  2.728\n",
      "Epoch   0 Batch  157/1077 - Train Accuracy:  0.340, Validation Accuracy:  0.405, Loss:  2.732\n",
      "Epoch   0 Batch  158/1077 - Train Accuracy:  0.374, Validation Accuracy:  0.405, Loss:  2.639\n",
      "Epoch   0 Batch  159/1077 - Train Accuracy:  0.367, Validation Accuracy:  0.405, Loss:  2.589\n",
      "Epoch   0 Batch  160/1077 - Train Accuracy:  0.341, Validation Accuracy:  0.405, Loss:  2.667\n",
      "Epoch   0 Batch  161/1077 - Train Accuracy:  0.345, Validation Accuracy:  0.405, Loss:  2.697\n",
      "Epoch   0 Batch  162/1077 - Train Accuracy:  0.354, Validation Accuracy:  0.402, Loss:  2.700\n",
      "Epoch   0 Batch  163/1077 - Train Accuracy:  0.313, Validation Accuracy:  0.402, Loss:  2.797\n",
      "Epoch   0 Batch  164/1077 - Train Accuracy:  0.339, Validation Accuracy:  0.403, Loss:  2.725\n",
      "Epoch   0 Batch  165/1077 - Train Accuracy:  0.333, Validation Accuracy:  0.397, Loss:  2.687\n",
      "Epoch   0 Batch  166/1077 - Train Accuracy:  0.353, Validation Accuracy:  0.404, Loss:  2.701\n",
      "Epoch   0 Batch  167/1077 - Train Accuracy:  0.333, Validation Accuracy:  0.404, Loss:  2.725\n",
      "Epoch   0 Batch  168/1077 - Train Accuracy:  0.319, Validation Accuracy:  0.404, Loss:  2.801\n",
      "Epoch   0 Batch  169/1077 - Train Accuracy:  0.381, Validation Accuracy:  0.405, Loss:  2.610\n",
      "Epoch   0 Batch  170/1077 - Train Accuracy:  0.324, Validation Accuracy:  0.405, Loss:  2.782\n",
      "Epoch   0 Batch  171/1077 - Train Accuracy:  0.391, Validation Accuracy:  0.405, Loss:  2.512\n",
      "Epoch   0 Batch  172/1077 - Train Accuracy:  0.352, Validation Accuracy:  0.404, Loss:  2.609\n",
      "Epoch   0 Batch  173/1077 - Train Accuracy:  0.315, Validation Accuracy:  0.404, Loss:  2.840\n",
      "Epoch   0 Batch  174/1077 - Train Accuracy:  0.349, Validation Accuracy:  0.408, Loss:  2.677\n",
      "Epoch   0 Batch  175/1077 - Train Accuracy:  0.343, Validation Accuracy:  0.404, Loss:  2.697\n",
      "Epoch   0 Batch  176/1077 - Train Accuracy:  0.330, Validation Accuracy:  0.408, Loss:  2.694\n",
      "Epoch   0 Batch  177/1077 - Train Accuracy:  0.311, Validation Accuracy:  0.408, Loss:  2.811\n",
      "Epoch   0 Batch  178/1077 - Train Accuracy:  0.348, Validation Accuracy:  0.409, Loss:  2.679\n",
      "Epoch   0 Batch  179/1077 - Train Accuracy:  0.327, Validation Accuracy:  0.409, Loss:  2.750\n",
      "Epoch   0 Batch  180/1077 - Train Accuracy:  0.355, Validation Accuracy:  0.415, Loss:  2.624\n",
      "Epoch   0 Batch  181/1077 - Train Accuracy:  0.377, Validation Accuracy:  0.428, Loss:  2.613\n",
      "Epoch   0 Batch  182/1077 - Train Accuracy:  0.391, Validation Accuracy:  0.430, Loss:  2.554\n",
      "Epoch   0 Batch  183/1077 - Train Accuracy:  0.373, Validation Accuracy:  0.439, Loss:  2.657\n",
      "Epoch   0 Batch  184/1077 - Train Accuracy:  0.397, Validation Accuracy:  0.444, Loss:  2.540\n",
      "Epoch   0 Batch  185/1077 - Train Accuracy:  0.378, Validation Accuracy:  0.439, Loss:  2.522\n",
      "Epoch   0 Batch  186/1077 - Train Accuracy:  0.367, Validation Accuracy:  0.445, Loss:  2.701\n",
      "Epoch   0 Batch  187/1077 - Train Accuracy:  0.394, Validation Accuracy:  0.450, Loss:  2.620\n",
      "Epoch   0 Batch  188/1077 - Train Accuracy:  0.407, Validation Accuracy:  0.446, Loss:  2.491\n",
      "Epoch   0 Batch  189/1077 - Train Accuracy:  0.384, Validation Accuracy:  0.447, Loss:  2.536\n",
      "Epoch   0 Batch  190/1077 - Train Accuracy:  0.407, Validation Accuracy:  0.455, Loss:  2.519\n",
      "Epoch   0 Batch  191/1077 - Train Accuracy:  0.467, Validation Accuracy:  0.464, Loss:  2.237\n",
      "Epoch   0 Batch  192/1077 - Train Accuracy:  0.423, Validation Accuracy:  0.459, Loss:  2.452\n",
      "Epoch   0 Batch  193/1077 - Train Accuracy:  0.402, Validation Accuracy:  0.458, Loss:  2.431\n",
      "Epoch   0 Batch  194/1077 - Train Accuracy:  0.431, Validation Accuracy:  0.452, Loss:  2.338\n"
     ]
    }
   ],
   "source": [
    "\"\"\"\n",
    "DON'T MODIFY ANYTHING IN THIS CELL\n",
    "\"\"\"\n",
    "import time\n",
    "\n",
    "def get_accuracy(target, logits):\n",
    "    \"\"\"\n",
    "    Calculate accuracy\n",
    "    \"\"\"\n",
    "    max_seq = max(target.shape[1], logits.shape[1])\n",
    "    if max_seq - target.shape[1]:\n",
    "        target = np.pad(\n",
    "            target,\n",
    "            [(0,0),(0,max_seq - target.shape[1])],\n",
    "            'constant')\n",
    "    if max_seq - logits.shape[1]:\n",
    "        logits = np.pad(\n",
    "            logits,\n",
    "            [(0,0),(0,max_seq - logits.shape[1]), (0,0)],\n",
    "            'constant')\n",
    "\n",
    "    return np.mean(np.equal(target, np.argmax(logits, 2)))\n",
    "\n",
    "train_source = source_int_text[batch_size:]\n",
    "train_target = target_int_text[batch_size:]\n",
    "\n",
    "valid_source = helper.pad_sentence_batch(source_int_text[:batch_size])\n",
    "valid_target = helper.pad_sentence_batch(target_int_text[:batch_size])\n",
    "\n",
    "with tf.Session(graph=train_graph) as sess:\n",
    "    sess.run(tf.global_variables_initializer())\n",
    "\n",
    "    for epoch_i in range(epochs):\n",
    "        for batch_i, (source_batch, target_batch) in enumerate(\n",
    "                helper.batch_data(train_source, train_target, batch_size)):\n",
    "            start_time = time.time()\n",
    "            \n",
    "            _, loss = sess.run(\n",
    "                [train_op, cost],\n",
    "                {input_data: source_batch,\n",
    "                 targets: target_batch,\n",
    "                 lr: learning_rate,\n",
    "                 sequence_length: target_batch.shape[1],\n",
    "                 keep_prob: keep_probability})\n",
    "            \n",
    "            batch_train_logits = sess.run(\n",
    "                inference_logits,\n",
    "                {input_data: source_batch, keep_prob: 1.0})\n",
    "            batch_valid_logits = sess.run(\n",
    "                inference_logits,\n",
    "                {input_data: valid_source, keep_prob: 1.0})\n",
    "                \n",
    "            train_acc = get_accuracy(target_batch, batch_train_logits)\n",
    "            valid_acc = get_accuracy(np.array(valid_target), batch_valid_logits)\n",
    "            end_time = time.time()\n",
    "            print('Epoch {:>3} Batch {:>4}/{} - Train Accuracy: {:>6.3f}, Validation Accuracy: {:>6.3f}, Loss: {:>6.3f}'\n",
    "                  .format(epoch_i, batch_i, len(source_int_text) // batch_size, train_acc, valid_acc, loss))\n",
    "\n",
    "    # Save Model\n",
    "    saver = tf.train.Saver()\n",
    "    saver.save(sess, save_path)\n",
    "    print('Model Trained and Saved')"
   ]
  },
  {
   "cell_type": "markdown",
   "metadata": {
    "deletable": true,
    "editable": true
   },
   "source": [
    "### Save Parameters\n",
    "Save the `batch_size` and `save_path` parameters for inference."
   ]
  },
  {
   "cell_type": "code",
   "execution_count": null,
   "metadata": {
    "collapsed": false,
    "deletable": true,
    "editable": true
   },
   "outputs": [],
   "source": [
    "\"\"\"\n",
    "DON'T MODIFY ANYTHING IN THIS CELL\n",
    "\"\"\"\n",
    "# Save parameters for checkpoint\n",
    "helper.save_params(save_path)"
   ]
  },
  {
   "cell_type": "markdown",
   "metadata": {
    "deletable": true,
    "editable": true
   },
   "source": [
    "# Checkpoint"
   ]
  },
  {
   "cell_type": "code",
   "execution_count": null,
   "metadata": {
    "collapsed": false,
    "deletable": true,
    "editable": true
   },
   "outputs": [],
   "source": [
    "\"\"\"\n",
    "DON'T MODIFY ANYTHING IN THIS CELL\n",
    "\"\"\"\n",
    "import tensorflow as tf\n",
    "import numpy as np\n",
    "import helper\n",
    "import problem_unittests as tests\n",
    "\n",
    "_, (source_vocab_to_int, target_vocab_to_int), (source_int_to_vocab, target_int_to_vocab) = helper.load_preprocess()\n",
    "load_path = helper.load_params()"
   ]
  },
  {
   "cell_type": "markdown",
   "metadata": {
    "deletable": true,
    "editable": true
   },
   "source": [
    "## Sentence to Sequence\n",
    "To feed a sentence into the model for translation, you first need to preprocess it.  Implement the function `sentence_to_seq()` to preprocess new sentences.\n",
    "\n",
    "- Convert the sentence to lowercase\n",
    "- Convert words into ids using `vocab_to_int`\n",
    " - Convert words not in the vocabulary, to the `<UNK>` word id."
   ]
  },
  {
   "cell_type": "code",
   "execution_count": null,
   "metadata": {
    "collapsed": false,
    "deletable": true,
    "editable": true
   },
   "outputs": [],
   "source": [
    "def sentence_to_seq(sentence, vocab_to_int):\n",
    "    \"\"\"\n",
    "    Convert a sentence to a sequence of ids\n",
    "    :param sentence: String\n",
    "    :param vocab_to_int: Dictionary to go from the words to an id\n",
    "    :return: List of word ids\n",
    "    \"\"\"\n",
    "    # TODO: Implement Function\n",
    "    return None\n",
    "\n",
    "\n",
    "\"\"\"\n",
    "DON'T MODIFY ANYTHING IN THIS CELL THAT IS BELOW THIS LINE\n",
    "\"\"\"\n",
    "tests.test_sentence_to_seq(sentence_to_seq)"
   ]
  },
  {
   "cell_type": "markdown",
   "metadata": {
    "deletable": true,
    "editable": true
   },
   "source": [
    "## Translate\n",
    "This will translate `translate_sentence` from English to French."
   ]
  },
  {
   "cell_type": "code",
   "execution_count": null,
   "metadata": {
    "collapsed": false,
    "deletable": true,
    "editable": true
   },
   "outputs": [],
   "source": [
    "translate_sentence = 'he saw a old yellow truck .'\n",
    "\n",
    "\n",
    "\"\"\"\n",
    "DON'T MODIFY ANYTHING IN THIS CELL\n",
    "\"\"\"\n",
    "translate_sentence = sentence_to_seq(translate_sentence, source_vocab_to_int)\n",
    "\n",
    "loaded_graph = tf.Graph()\n",
    "with tf.Session(graph=loaded_graph) as sess:\n",
    "    # Load saved model\n",
    "    loader = tf.train.import_meta_graph(load_path + '.meta')\n",
    "    loader.restore(sess, load_path)\n",
    "\n",
    "    input_data = loaded_graph.get_tensor_by_name('input:0')\n",
    "    logits = loaded_graph.get_tensor_by_name('logits:0')\n",
    "    keep_prob = loaded_graph.get_tensor_by_name('keep_prob:0')\n",
    "\n",
    "    translate_logits = sess.run(logits, {input_data: [translate_sentence], keep_prob: 1.0})[0]\n",
    "\n",
    "print('Input')\n",
    "print('  Word Ids:      {}'.format([i for i in translate_sentence]))\n",
    "print('  English Words: {}'.format([source_int_to_vocab[i] for i in translate_sentence]))\n",
    "\n",
    "print('\\nPrediction')\n",
    "print('  Word Ids:      {}'.format([i for i in np.argmax(translate_logits, 1)]))\n",
    "print('  French Words: {}'.format([target_int_to_vocab[i] for i in np.argmax(translate_logits, 1)]))"
   ]
  },
  {
   "cell_type": "markdown",
   "metadata": {
    "deletable": true,
    "editable": true
   },
   "source": [
    "## Imperfect Translation\n",
    "You might notice that some sentences translate better than others.  Since the dataset you're using only has a vocabulary of 227 English words of the thousands that you use, you're only going to see good results using these words.  For this project, you don't need a perfect translation. However, if you want to create a better translation model, you'll need better data.\n",
    "\n",
    "You can train on the [WMT10 French-English corpus](http://www.statmt.org/wmt10/training-giga-fren.tar).  This dataset has more vocabulary and richer in topics discussed.  However, this will take you days to train, so make sure you've a GPU and the neural network is performing well on dataset we provided.  Just make sure you play with the WMT10 corpus after you've submitted this project.\n",
    "## Submitting This Project\n",
    "When submitting this project, make sure to run all the cells before saving the notebook. Save the notebook file as \"dlnd_language_translation.ipynb\" and save it as a HTML file under \"File\" -> \"Download as\". Include the \"helper.py\" and \"problem_unittests.py\" files in your submission."
   ]
  }
 ],
 "metadata": {
  "kernelspec": {
   "display_name": "Python 3",
   "language": "python",
   "name": "python3"
  },
  "language_info": {
   "codemirror_mode": {
    "name": "ipython",
    "version": 3
   },
   "file_extension": ".py",
   "mimetype": "text/x-python",
   "name": "python",
   "nbconvert_exporter": "python",
   "pygments_lexer": "ipython3",
   "version": "3.5.2"
  },
  "widgets": {
   "state": {},
   "version": "1.1.2"
  }
 },
 "nbformat": 4,
 "nbformat_minor": 0
}
